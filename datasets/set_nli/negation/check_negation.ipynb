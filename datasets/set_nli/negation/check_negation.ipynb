{
 "cells": [
  {
   "cell_type": "markdown",
   "metadata": {},
   "source": [
    "\"\"\"\n",
    "Notebook used to inspect for errors in negated dataset. \n",
    "\"\"\""
   ]
  },
  {
   "cell_type": "code",
   "execution_count": 1,
   "metadata": {},
   "outputs": [],
   "source": [
    "import pandas as pd\n",
    "import json"
   ]
  },
  {
   "cell_type": "code",
   "execution_count": 2,
   "metadata": {},
   "outputs": [],
   "source": [
    "with open('tasks/nli/negation/snli_test_contradiction_negated.json', 'r') as f:\n",
    "    data = json.load(f)"
   ]
  },
  {
   "cell_type": "code",
   "execution_count": 3,
   "metadata": {},
   "outputs": [],
   "source": [
    "data_df = pd.DataFrame(data['instances'])"
   ]
  },
  {
   "cell_type": "code",
   "execution_count": 5,
   "metadata": {},
   "outputs": [
    {
     "name": "stdout",
     "output_type": "stream",
     "text": [
      "3237\n"
     ]
    }
   ],
   "source": [
    "print(len(data_df))"
   ]
  },
  {
   "cell_type": "code",
   "execution_count": 38,
   "metadata": {},
   "outputs": [],
   "source": [
    "errors = data_df.loc[(data_df['premise'].str.startswith('The ')|data_df['premise'].str.startswith('the ')) & ~(data_df['premise_negated'].str.startswith('The ')|data_df['premise_negated'].str.startswith('the '))]"
   ]
  },
  {
   "cell_type": "code",
   "execution_count": 20,
   "metadata": {},
   "outputs": [],
   "source": [
    "error_denom = data_df.loc[(data_df['premise'].str.startswith('The ')|data_df['premise'].str.startswith('the '))]"
   ]
  },
  {
   "cell_type": "code",
   "execution_count": 39,
   "metadata": {},
   "outputs": [],
   "source": [
    "errors_h = data_df.loc[(data_df['hypothesis'].str.startswith('The ')|data_df['hypothesis'].str.startswith('the ')) & ~(data_df['hypothesis_negated'].str.startswith('The ')|data_df['hypothesis_negated'].str.startswith('the '))]"
   ]
  },
  {
   "cell_type": "code",
   "execution_count": 44,
   "metadata": {},
   "outputs": [],
   "source": [
    "pd.set_option('display.max_rows', 999)"
   ]
  },
  {
   "cell_type": "code",
   "execution_count": 21,
   "metadata": {},
   "outputs": [],
   "source": [
    "errors_h_denom = data_df.loc[(data_df['hypothesis'].str.startswith('The ')|data_df['hypothesis'].str.startswith('the '))]"
   ]
  },
  {
   "cell_type": "code",
   "execution_count": 22,
   "metadata": {},
   "outputs": [
    {
     "data": {
      "text/plain": [
       "1096"
      ]
     },
     "execution_count": 22,
     "metadata": {},
     "output_type": "execute_result"
    }
   ],
   "source": [
    "errors_h_denom.shape[0] + error_denom.shape[0]"
   ]
  },
  {
   "cell_type": "code",
   "execution_count": 16,
   "metadata": {},
   "outputs": [
    {
     "data": {
      "text/plain": [
       "122"
      ]
     },
     "execution_count": 16,
     "metadata": {},
     "output_type": "execute_result"
    }
   ],
   "source": [
    "errors_h.shape[0] + errors.shape[0]"
   ]
  },
  {
   "cell_type": "code",
   "execution_count": 23,
   "metadata": {},
   "outputs": [
    {
     "data": {
      "text/plain": [
       "0.11131386861313869"
      ]
     },
     "execution_count": 23,
     "metadata": {},
     "output_type": "execute_result"
    }
   ],
   "source": [
    "122 / 1096"
   ]
  },
  {
   "cell_type": "code",
   "execution_count": 5,
   "metadata": {},
   "outputs": [],
   "source": [
    "## new type of error.. \n",
    "\n",
    "data_df['Negation_duplicated'] = data_df.apply(lambda x: len(set([x['hypothesis'], x['hypothesis_negated'], x['premise'], x['premise_negated']])) != 4,axis=1)"
   ]
  },
  {
   "cell_type": "code",
   "execution_count": 6,
   "metadata": {},
   "outputs": [
    {
     "data": {
      "text/html": [
       "<div>\n",
       "<style scoped>\n",
       "    .dataframe tbody tr th:only-of-type {\n",
       "        vertical-align: middle;\n",
       "    }\n",
       "\n",
       "    .dataframe tbody tr th {\n",
       "        vertical-align: top;\n",
       "    }\n",
       "\n",
       "    .dataframe thead th {\n",
       "        text-align: right;\n",
       "    }\n",
       "</style>\n",
       "<table border=\"1\" class=\"dataframe\">\n",
       "  <thead>\n",
       "    <tr style=\"text-align: right;\">\n",
       "      <th></th>\n",
       "      <th>pairID</th>\n",
       "      <th>premise</th>\n",
       "      <th>hypothesis</th>\n",
       "      <th>premise_negated</th>\n",
       "      <th>hypothesis_negated</th>\n",
       "      <th>label</th>\n",
       "      <th>Negation_duplicated</th>\n",
       "    </tr>\n",
       "  </thead>\n",
       "  <tbody>\n",
       "    <tr>\n",
       "      <th>2454</th>\n",
       "      <td>515664903.jpg#2r1c</td>\n",
       "      <td>A man is rolling a suitcase in front of a bunc...</td>\n",
       "      <td>Thi</td>\n",
       "      <td>No man is rolling a suitcase in front of a bun...</td>\n",
       "      <td>No man is rolling a suitcase in front of a bun...</td>\n",
       "      <td>contradiction</td>\n",
       "      <td>True</td>\n",
       "    </tr>\n",
       "    <tr>\n",
       "      <th>2897</th>\n",
       "      <td>571002259.jpg#2r1c</td>\n",
       "      <td>A male with sunglasses is poking at a tree wit...</td>\n",
       "      <td>Nobody is poking</td>\n",
       "      <td>No male with sunglasses is poking at a tree wi...</td>\n",
       "      <td>A male with sunglasses is poking at a tree wit...</td>\n",
       "      <td>contradiction</td>\n",
       "      <td>True</td>\n",
       "    </tr>\n",
       "  </tbody>\n",
       "</table>\n",
       "</div>"
      ],
      "text/plain": [
       "                  pairID                                            premise  \\\n",
       "2454  515664903.jpg#2r1c  A man is rolling a suitcase in front of a bunc...   \n",
       "2897  571002259.jpg#2r1c  A male with sunglasses is poking at a tree wit...   \n",
       "\n",
       "            hypothesis                                    premise_negated  \\\n",
       "2454               Thi  No man is rolling a suitcase in front of a bun...   \n",
       "2897  Nobody is poking  No male with sunglasses is poking at a tree wi...   \n",
       "\n",
       "                                     hypothesis_negated          label  \\\n",
       "2454  No man is rolling a suitcase in front of a bun...  contradiction   \n",
       "2897  A male with sunglasses is poking at a tree wit...  contradiction   \n",
       "\n",
       "      Negation_duplicated  \n",
       "2454                 True  \n",
       "2897                 True  "
      ]
     },
     "execution_count": 6,
     "metadata": {},
     "output_type": "execute_result"
    }
   ],
   "source": [
    "data_df.loc[data_df['Negation_duplicated'], :]"
   ]
  },
  {
   "cell_type": "code",
   "execution_count": null,
   "metadata": {},
   "outputs": [],
   "source": []
  },
  {
   "cell_type": "code",
   "execution_count": 7,
   "metadata": {},
   "outputs": [],
   "source": [
    "with open('tasks/nli/negation/snli_test_neutral_negated.json', 'r') as f:\n",
    "    data = json.load(f)"
   ]
  },
  {
   "cell_type": "code",
   "execution_count": 8,
   "metadata": {},
   "outputs": [],
   "source": [
    "data_df = pd.DataFrame(data['instances'])"
   ]
  },
  {
   "cell_type": "code",
   "execution_count": 8,
   "metadata": {},
   "outputs": [
    {
     "name": "stdout",
     "output_type": "stream",
     "text": [
      "3219\n"
     ]
    }
   ],
   "source": [
    "print(len(data_df))"
   ]
  },
  {
   "cell_type": "code",
   "execution_count": 48,
   "metadata": {},
   "outputs": [],
   "source": [
    "errors = data_df.loc[(data_df['premise'].str.startswith('The ')|data_df['premise'].str.startswith('the ')) & ~(data_df['premise_negated'].str.startswith('The ')|data_df['premise_negated'].str.startswith('the '))]"
   ]
  },
  {
   "cell_type": "code",
   "execution_count": 27,
   "metadata": {},
   "outputs": [],
   "source": [
    "error_denom = data_df.loc[(data_df['premise'].str.startswith('The ')|data_df['premise'].str.startswith('the '))]"
   ]
  },
  {
   "cell_type": "code",
   "execution_count": 49,
   "metadata": {},
   "outputs": [],
   "source": [
    "errors_h = data_df.loc[(data_df['hypothesis'].str.startswith('The ')|data_df['hypothesis'].str.startswith('the ')) & ~(data_df['hypothesis_negated'].str.startswith('The ')|data_df['hypothesis_negated'].str.startswith('the '))]"
   ]
  },
  {
   "cell_type": "code",
   "execution_count": 29,
   "metadata": {},
   "outputs": [],
   "source": [
    "errors_h_denom = data_df.loc[(data_df['hypothesis'].str.startswith('The ')|data_df['hypothesis'].str.startswith('the '))]"
   ]
  },
  {
   "cell_type": "code",
   "execution_count": 30,
   "metadata": {},
   "outputs": [
    {
     "data": {
      "text/plain": [
       "1120"
      ]
     },
     "execution_count": 30,
     "metadata": {},
     "output_type": "execute_result"
    }
   ],
   "source": [
    "errors_h_denom.shape[0] + error_denom.shape[0]"
   ]
  },
  {
   "cell_type": "code",
   "execution_count": 31,
   "metadata": {},
   "outputs": [
    {
     "data": {
      "text/plain": [
       "81"
      ]
     },
     "execution_count": 31,
     "metadata": {},
     "output_type": "execute_result"
    }
   ],
   "source": [
    "errors_h.shape[0] + errors.shape[0]"
   ]
  },
  {
   "cell_type": "code",
   "execution_count": 33,
   "metadata": {},
   "outputs": [
    {
     "data": {
      "text/plain": [
       "0.07232142857142858"
      ]
     },
     "execution_count": 33,
     "metadata": {},
     "output_type": "execute_result"
    }
   ],
   "source": [
    "(errors_h.shape[0] + errors.shape[0]) / (errors_h_denom.shape[0] + error_denom.shape[0])"
   ]
  },
  {
   "cell_type": "code",
   "execution_count": 9,
   "metadata": {},
   "outputs": [],
   "source": [
    "## new type of error.. \n",
    "\n",
    "data_df['Negation_duplicated'] = data_df.apply(lambda x: len(set([x['hypothesis'], x['hypothesis_negated'], x['premise'], x['premise_negated']])) != 4,axis=1)"
   ]
  },
  {
   "cell_type": "code",
   "execution_count": 10,
   "metadata": {},
   "outputs": [
    {
     "data": {
      "text/html": [
       "<div>\n",
       "<style scoped>\n",
       "    .dataframe tbody tr th:only-of-type {\n",
       "        vertical-align: middle;\n",
       "    }\n",
       "\n",
       "    .dataframe tbody tr th {\n",
       "        vertical-align: top;\n",
       "    }\n",
       "\n",
       "    .dataframe thead th {\n",
       "        text-align: right;\n",
       "    }\n",
       "</style>\n",
       "<table border=\"1\" class=\"dataframe\">\n",
       "  <thead>\n",
       "    <tr style=\"text-align: right;\">\n",
       "      <th></th>\n",
       "      <th>pairID</th>\n",
       "      <th>premise</th>\n",
       "      <th>hypothesis</th>\n",
       "      <th>premise_negated</th>\n",
       "      <th>hypothesis_negated</th>\n",
       "      <th>label</th>\n",
       "      <th>Negation_duplicated</th>\n",
       "    </tr>\n",
       "  </thead>\n",
       "  <tbody>\n",
       "  </tbody>\n",
       "</table>\n",
       "</div>"
      ],
      "text/plain": [
       "Empty DataFrame\n",
       "Columns: [pairID, premise, hypothesis, premise_negated, hypothesis_negated, label, Negation_duplicated]\n",
       "Index: []"
      ]
     },
     "execution_count": 10,
     "metadata": {},
     "output_type": "execute_result"
    }
   ],
   "source": [
    "data_df.loc[data_df['Negation_duplicated'], :]"
   ]
  }
 ],
 "metadata": {
  "kernelspec": {
   "display_name": "Python 3 (ipykernel)",
   "language": "python",
   "name": "python3"
  },
  "language_info": {
   "codemirror_mode": {
    "name": "ipython",
    "version": 3
   },
   "file_extension": ".py",
   "mimetype": "text/x-python",
   "name": "python",
   "nbconvert_exporter": "python",
   "pygments_lexer": "ipython3",
   "version": "3.8.20"
  }
 },
 "nbformat": 4,
 "nbformat_minor": 2
}
